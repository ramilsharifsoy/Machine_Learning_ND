{
 "cells": [
  {
   "cell_type": "markdown",
   "metadata": {
    "collapsed": false
   },
   "source": [
    "<a href=\"http://www.pinsdaddy.com/pittsburgh-pa-area-map_LaF3VctaPpxf6lh1NCy0vAAlxhUWkl1212ESeozWFD8/\"><img src=\"pittsburghmetrowallmap.jpg\"></a>"
   ]
  },
  {
   "cell_type": "markdown",
   "metadata": {},
   "source": [
    "<b>Column Descriptions:</b> <br>\n",
    "PED : Pedestrian <br> \n",
    "BIC : Bicycle <br>\n",
    "AVS : AVSafetyPotential <br>\n",
    "FTC : FamiliarityTechnoology <br>\n",
    "ZCD : ZipCode <br>\n",
    "POP : Population <br>\n",
    "AHI : AvgIncomeHouse <br>\n",
    "ZHV : ZHVI <br>\n",
    "ALB : AllBeneficiaries <br>\n",
    "APP : FeelingsProvingGround / Approval <br>"
   ]
  },
  {
   "cell_type": "code",
   "execution_count": 2,
   "metadata": {
    "collapsed": false
   },
   "outputs": [
    {
     "name": "stdout",
     "output_type": "stream",
     "text": [
      "\n",
      "Autonomus Vehicle Deployment dataset has 938 survey responces with 10 variables each.\n",
      "\n"
     ]
    }
   ],
   "source": [
    "# Use Python 2.7\n",
    "# Import libraries necessary for this project\n",
    "import csv\n",
    "import time\n",
    "import numpy as np\n",
    "import pandas as pd\n",
    "import seaborn as sns\n",
    "import matplotlib.pyplot as plt\n",
    "\n",
    "from IPython.display import display\n",
    "\n",
    "from sklearn import tree\n",
    "from sklearn import svm\n",
    "from sklearn.naive_bayes import GaussianNB\n",
    "\n",
    "from sklearn.metrics import f1_score\n",
    "from sklearn.metrics import fbeta_score, make_scorer\n",
    "\n",
    "from sklearn.cross_validation import ShuffleSplit\n",
    "from sklearn.cross_validation import train_test_split\n",
    "from sklearn.grid_search import GridSearchCV\n",
    "\n",
    "from collections import Counter\n",
    "\n",
    "# Pretty display for notebooks\n",
    "%matplotlib inline\n",
    "\n",
    "# Load the Autonomus Vehicle Deployment in Pittsburgh dataset\n",
    "data = pd.read_csv('AutonomousVD.csv')\n",
    "\n",
    "\n",
    "''' \n",
    "neutral = data['APP']\n",
    "disapproval = data['APP']\n",
    "'''\n",
    "\n",
    "population = data['POP']\n",
    "income = data['AHI']\n",
    "homevalue = data['ZHV']\n",
    "beneficiaries = data['ALB']\n",
    "zipcodes = data ['ZCD']\n",
    "\n",
    "\n",
    "approval = data ['APP']\n",
    "familiarity = data ['FTC']\n",
    "    \n",
    "# Success\n",
    "print \"\\nAutonomus Vehicle Deployment dataset has {} survey responces with {} variables each.\\n\".format(*data.shape)"
   ]
  },
  {
   "cell_type": "code",
   "execution_count": 3,
   "metadata": {
    "collapsed": false
   },
   "outputs": [
    {
     "name": "stdout",
     "output_type": "stream",
     "text": [
      "Feature columns:\n",
      "['PED', 'BIC', 'AVS', 'FTC', 'ZCD', 'POP', 'AHI', 'ZHV', 'ALB']\n",
      "\n",
      "Target column:\n",
      "APP\n",
      "\n",
      "Samle list of Values:\n",
      "   PED  BIC  AVS  FTC    ZCD    POP    AHI     ZHV   ALB  APP\n",
      "0    1    1    0    2  15201  14326  27031  129000  2920    0\n",
      "1    1    0    0    1  15201  14326  27031  129000  2920    0\n",
      "2    1    0    2    1  15201  14326  27031  129000  2920    1\n",
      "3    1    2    2    4  15201  14326  27031  129000  2920    0\n",
      "4    0    1    1    3  15201  14326  27031  129000  2920    3\n"
     ]
    }
   ],
   "source": [
    "# Extract feature columns\n",
    "feature_cols = list(data.columns[:-1])\n",
    "\n",
    "# Extract target column 'passed'\n",
    "target_col = data.columns[-1] \n",
    "\n",
    "# Show the list of columns\n",
    "print \"Feature columns:\\n{}\".format(feature_cols)\n",
    "print \"\\nTarget column:\\n{}\".format(target_col)\n",
    "\n",
    "# Separate the data into feature data and target data (X_all and y_all, respectively)\n",
    "X_all = data[feature_cols]\n",
    "y_all = data[target_col]\n",
    "\n",
    "# Show the feature information by printing the first five rows\n",
    "print \"\\nSamle list of Values:\"\n",
    "print data.head()"
   ]
  },
  {
   "cell_type": "code",
   "execution_count": 4,
   "metadata": {
    "collapsed": false
   },
   "outputs": [
    {
     "name": "stdout",
     "output_type": "stream",
     "text": [
      "Statistics of Autonomus Vehicle Deployment in Pittsburgh Dataset with 938 responces:\n",
      "\n",
      "Descriptoion of convertions:\n",
      "0 = Disapproval, 1 = Somewhat disapproval, \n",
      "2 = Neutral, \n",
      "3 = Somewhat approval, 4 = Approval\n"
     ]
    },
    {
     "data": {
      "image/png": "[encoded data removed]",
      "text/plain": [
       "<matplotlib.figure.Figure at 0x1039a7310>"
      ]
     },
     "metadata": {},
     "output_type": "display_data"
    },
    {
     "name": "stdout",
     "output_type": "stream",
     "text": [
      "58, which is %6 of participants disapproving AV\n",
      "81, which is %8 of participants somewhat disapproving AV\n",
      "119, which is %12 of participants neutral with AV\n",
      "190, which is %20 of participants somewhat approving AV\n",
      "490, which is %52 of participants approving AV\n",
      "\n",
      "\n",
      "Descriptoion of convertions:\n",
      "0 = Not familiar, 1 = Mostly unfamiliar, \n",
      "2 = Somewhat familiar, 3 = Mostly familiar, 4 = Extremely familiar\n"
     ]
    },
    {
     "data": {
      "image/png": "[encoded data removed]",
      "text/plain": [
       "<matplotlib.figure.Figure at 0x105337450>"
      ]
     },
     "metadata": {},
     "output_type": "display_data"
    },
    {
     "name": "stdout",
     "output_type": "stream",
     "text": [
      "51, which is %5 of participants not familiar with AV\n",
      "203, which is %21 of participants mostly unfamiliar with AV\n",
      "391, which is %41 of participants somewhat familiar with AV\n",
      "201, which is %21 of participants mostly familiar with AV\n",
      "92, which is %9 of participants extremly familiar with AV\n"
     ]
    }
   ],
   "source": [
    "Approvals = Counter(approval)\n",
    "Familiarities = Counter(familiarity)\n",
    "\n",
    "print(\"Statistics of Autonomus Vehicle Deployment in Pittsburgh Dataset with 938 responces:\\n\")\n",
    "\n",
    "print('Descriptoion of convertions:\\n0 = Disapproval, 1 = Somewhat disapproval, \\n2 = Neutral, \\n3 = Somewhat approval, 4 = Approval')\n",
    "plt.xlabel('Approval Level')\n",
    "plt.ylabel('Frequency')\n",
    "plt.hist(approval, bins = 15)\n",
    "plt.show()\n",
    "\n",
    "print \"{}, which is %{} of participants disapproving AV\".format(Approvals[0], 100*Approvals[0]/938)\n",
    "print \"{}, which is %{} of participants somewhat disapproving AV\".format(Approvals[1], 100*Approvals[1]/938)\n",
    "print \"{}, which is %{} of participants neutral with AV\".format(Approvals[2], 100*Approvals[2]/938)\n",
    "print \"{}, which is %{} of participants somewhat approving AV\".format(Approvals[3], 100*Approvals[3]/938)\n",
    "print \"{}, which is %{} of participants approving AV\".format(Approvals[4], 100*Approvals[4]/938)\n",
    "\n",
    "print('\\n\\nDescriptoion of convertions:\\n0 = Not familiar, 1 = Mostly unfamiliar, \\n2 = Somewhat familiar, 3 = Mostly familiar, 4 = Extremely familiar')\n",
    "plt.xlabel('Familiarity Level')\n",
    "plt.ylabel('Frequency')\n",
    "plt.hist(familiarity, bins = 15)\n",
    "plt.show()\n",
    "\n",
    "print \"{}, which is %{} of participants not familiar with AV\".format(Familiarities[0], 100*Familiarities[0]/938)\n",
    "print \"{}, which is %{} of participants mostly unfamiliar with AV\".format(Familiarities[1], 100*Familiarities[1]/938)\n",
    "print \"{}, which is %{} of participants somewhat familiar with AV\".format(Familiarities[2], 100*Familiarities[2]/938)\n",
    "print \"{}, which is %{} of participants mostly familiar with AV\".format(Familiarities[3], 100*Familiarities[3]/938)\n",
    "print \"{}, which is %{} of participants extremly familiar with AV\".format(Familiarities[4], 100*Familiarities[4]/938)"
   ]
  },
  {
   "cell_type": "code",
   "execution_count": 5,
   "metadata": {
    "collapsed": false
   },
   "outputs": [
    {
     "data": {
      "image/png": "[encoded data removed]",
      "text/plain": [
       "<matplotlib.figure.Figure at 0x10de6f350>"
      ]
     },
     "metadata": {},
     "output_type": "display_data"
    }
   ],
   "source": [
    "corr = data.corr()\n",
    "mask = np.zeros_like(corr)\n",
    "mask[np.triu_indices_from(mask, 1)] = True\n",
    "with sns.axes_style(\"white\"):\n",
    "    ax = sns.heatmap(corr, mask=mask, square=True, annot=True, cmap='RdBu', fmt='+.2f')\n",
    "    plt.xticks(rotation=45, ha='right');\n",
    "    plt.title('Correleation of Features')"
   ]
  },
  {
   "cell_type": "code",
   "execution_count": 6,
   "metadata": {
    "collapsed": false
   },
   "outputs": [
    {
     "data": {
      "image/png": "[encoded data removed]",
      "text/plain": [
       "<matplotlib.figure.Figure at 0x1114d2250>"
      ]
     },
     "metadata": {},
     "output_type": "display_data"
    }
   ],
   "source": [
    "plt.xlabel('Approval')\n",
    "plt.ylabel('Familiarity')\n",
    "plt.plot(approval, familiarity, 'g^')\n",
    "plt.axis([-1, 5, -1, 5])\n",
    "plt.show()"
   ]
  },
  {
   "cell_type": "code",
   "execution_count": 7,
   "metadata": {
    "collapsed": false
   },
   "outputs": [
    {
     "data": {
      "image/png": "[encoded data removed]",
      "text/plain": [
       "<matplotlib.figure.Figure at 0x11166c150>"
      ]
     },
     "metadata": {},
     "output_type": "display_data"
    }
   ],
   "source": [
    "plt.xlabel('Population')\n",
    "plt.ylabel('Beneficiaries')\n",
    "plt.plot(population, beneficiaries, 'ro')\n",
    "plt.axis([-100, 45000, 0, 15000])\n",
    "plt.show()"
   ]
  },
  {
   "cell_type": "code",
   "execution_count": 8,
   "metadata": {
    "collapsed": false
   },
   "outputs": [
    {
     "data": {
      "image/png": "[encoded data removed]",
      "text/plain": [
       "<matplotlib.figure.Figure at 0x1117c6210>"
      ]
     },
     "metadata": {},
     "output_type": "display_data"
    }
   ],
   "source": [
    "plt.xlabel('Population')\n",
    "plt.ylabel('Zillow Median House Price')\n",
    "plt.plot(income, population, 'ro')\n",
    "plt.axis([0, 90000, 0, 50000])\n",
    "plt.show()"
   ]
  },
  {
   "cell_type": "code",
   "execution_count": 9,
   "metadata": {
    "collapsed": false
   },
   "outputs": [
    {
     "data": {
      "image/png": "[encoded data removed]",
      "text/plain": [
       "<matplotlib.figure.Figure at 0x11186e850>"
      ]
     },
     "metadata": {},
     "output_type": "display_data"
    },
    {
     "data": {
      "image/png": "[encoded data removed]",
      "text/plain": [
       "<matplotlib.figure.Figure at 0x111aa4ed0>"
      ]
     },
     "metadata": {},
     "output_type": "display_data"
    }
   ],
   "source": [
    "plt.xlabel('Average Household Income')\n",
    "plt.ylabel('Frequency')\n",
    "plt.hist(income, bins = 30)\n",
    "plt.show()\n",
    "\n",
    "plt.xlabel('Zillow Median House Price')\n",
    "plt.ylabel('Frequency')\n",
    "plt.hist(homevalue, bins = 30)\n",
    "plt.show()"
   ]
  },
  {
   "cell_type": "code",
   "execution_count": 10,
   "metadata": {
    "collapsed": false
   },
   "outputs": [
    {
     "name": "stdout",
     "output_type": "stream",
     "text": [
      "Processed feature columns (9 total features):\n",
      "['PED', 'BIC', 'AVS', 'FTC', 'ZCD', 'POP', 'AHI', 'ZHV', 'ALB']\n"
     ]
    }
   ],
   "source": [
    "def preprocess_features(X):\n",
    "    ''' Preprocesses the data and converts non-numeric binary variables into\n",
    "        binary (0/1) variables. Converts categorical variables into dummy variables. '''\n",
    "    \n",
    "    # Initialize new output DataFrame\n",
    "    output = pd.DataFrame(index = X.index)\n",
    "\n",
    "    # Investigate each feature column for the data\n",
    "    for col, col_data in X.iteritems():\n",
    "        \n",
    "        # If data type is non-numeric, replace all yes/no values with 1/0\n",
    "        if col_data.dtype == object:\n",
    "            col_data = col_data.replace(['1', '2'], [1, 1])\n",
    "\n",
    "        # If data type is categorical, convert to dummy variables\n",
    "        if col_data.dtype == object:\n",
    "            # Example: 'school' => 'school_GP' and 'school_MS'\n",
    "            col_data = pd.get_dummies(col_data, prefix = col)  \n",
    "        \n",
    "        # Collect the revised columns\n",
    "        output = output.join(col_data)\n",
    "    \n",
    "    return output\n",
    "\n",
    "X_all = preprocess_features(X_all)\n",
    "print \"Processed feature columns ({} total features):\\n{}\".format(len(X_all.columns), list(X_all.columns))"
   ]
  },
  {
   "cell_type": "code",
   "execution_count": 11,
   "metadata": {
    "collapsed": false
   },
   "outputs": [
    {
     "name": "stdout",
     "output_type": "stream",
     "text": [
      "Training set has 700 samples.\n",
      "Testing set has 238 samples.\n"
     ]
    }
   ],
   "source": [
    "# Set the number of training points\n",
    "num_train = 700\n",
    "\n",
    "# Shuffle and split the dataset into the number of training and testing points above\n",
    "X_train, X_test, y_train, y_test = train_test_split(\n",
    "    X_all, y_all, train_size=num_train, random_state=42)\n",
    "\n",
    "# Show the results of the split\n",
    "print \"Training set has {} samples.\".format(X_train.shape[0])\n",
    "print \"Testing set has {} samples.\".format(X_test.shape[0])"
   ]
  },
  {
   "cell_type": "code",
   "execution_count": 12,
   "metadata": {
    "collapsed": true
   },
   "outputs": [],
   "source": [
    "def train_classifier(clf, X_train, y_train):\n",
    "    ''' Fits a classifier to the training data. '''\n",
    "    \n",
    "    # Start the clock, train the classifier, then stop the clock\n",
    "    start = time.time()\n",
    "    clf.fit(X_train, y_train)\n",
    "    end = time.time()\n",
    "    \n",
    "    # Print the results\n",
    "    print \"Trained model in {:.4f} seconds\".format(end - start)\n",
    "\n",
    "    \n",
    "def predict_labels(clf, features, target):\n",
    "    ''' Makes predictions using a fit classifier based on F1 score. '''\n",
    "    \n",
    "    # Start the clock, make predictions, then stop the clock\n",
    "    start = time.time()\n",
    "    y_pred = clf.predict(features)\n",
    "    end = time.time()\n",
    "    \n",
    "    # Print and return results\n",
    "    print \"Made predictions in {:.4f} seconds.\".format(end - start)\n",
    "    return f1_score(target.values, y_pred, pos_label='1', average='weighted')\n",
    "\n",
    "\n",
    "def train_predict(clf, X_train, y_train, X_test, y_test):\n",
    "    ''' Train and predict using a classifer based on F1 score. '''\n",
    "    \n",
    "    # Indicate the classifier and the training set size\n",
    "    print \"Training a {} using a training set size of {}. . .\".format(clf.__class__.__name__, len(X_train))\n",
    "    \n",
    "    # Train the classifier\n",
    "    train_classifier(clf, X_train, y_train)\n",
    "    \n",
    "    # Print the results of prediction for both training and testing\n",
    "    print \"F1 score for training set: {:.4f}.\".format(predict_labels(clf, X_train, y_train))\n",
    "    print \"F1 score for test set: {:.4f}.\".format(predict_labels(clf, X_test, y_test))"
   ]
  },
  {
   "cell_type": "code",
   "execution_count": 14,
   "metadata": {
    "collapsed": false
   },
   "outputs": [
    {
     "name": "stdout",
     "output_type": "stream",
     "text": [
      "\n",
      " Model 1 200: DecisionTreeClassifier\n",
      "Training a DecisionTreeClassifier using a training set size of 200. . .\n",
      "Trained model in 0.0011 seconds\n",
      "Made predictions in 0.0003 seconds.\n",
      "F1 score for training set: 0.9360.\n",
      "Made predictions in 0.0002 seconds.\n",
      "F1 score for test set: 0.4090.\n",
      "\n",
      " Model 1 500: DecisionTreeClassifier\n",
      "Training a DecisionTreeClassifier using a training set size of 500. . .\n",
      "Trained model in 0.0015 seconds\n",
      "Made predictions in 0.0002 seconds.\n",
      "F1 score for training set: 0.8619.\n",
      "Made predictions in 0.0002 seconds.\n",
      "F1 score for test set: 0.4243.\n",
      "\n",
      " Model 1 700: DecisionTreeClassifier\n",
      "Training a DecisionTreeClassifier using a training set size of 700. . .\n",
      "Trained model in 0.0018 seconds\n",
      "Made predictions in 0.0003 seconds.\n",
      "F1 score for training set: 0.8313.\n",
      "Made predictions in 0.0003 seconds.\n",
      "F1 score for test set: 0.4052.\n",
      "\n",
      " Model 2 200: GaussianNB\n",
      "Training a GaussianNB using a training set size of 200. . .\n",
      "Trained model in 0.0006 seconds\n",
      "Made predictions in 0.0003 seconds.\n",
      "F1 score for training set: 0.4077.\n",
      "Made predictions in 0.0004 seconds.\n",
      "F1 score for test set: 0.4030.\n",
      "\n",
      " Model 2 500: GaussianNB\n",
      "Training a GaussianNB using a training set size of 500. . .\n",
      "Trained model in 0.0009 seconds\n",
      "Made predictions in 0.0008 seconds.\n",
      "F1 score for training set: 0.3888.\n",
      "Made predictions in 0.0004 seconds.\n",
      "F1 score for test set: 0.4018.\n",
      "\n",
      " Model 2 700: GaussianNB\n",
      "Training a GaussianNB using a training set size of 700. . .\n",
      "Trained model in 0.0008 seconds\n",
      "Made predictions in 0.0004 seconds.\n",
      "F1 score for training set: 0.3668.\n",
      "Made predictions in 0.0004 seconds.\n",
      "F1 score for test set: 0.3894.\n",
      "\n",
      " Model 3 200: SVC\n",
      "Training a SVC using a training set size of 200. . .\n",
      "Trained model in 0.0024 seconds\n",
      "Made predictions in 0.0008 seconds.\n",
      "F1 score for training set: 0.5117.\n",
      "Made predictions in 0.0010 seconds.\n",
      "F1 score for test set: 0.3899.\n",
      "\n",
      " Model 3 500: SVC\n",
      "Training a SVC using a training set size of 500. . .\n",
      "Trained model in 0.0103 seconds\n",
      "Made predictions in 0.0041 seconds.\n",
      "F1 score for training set: 0.4511.\n",
      "Made predictions in 0.0020 seconds.\n",
      "F1 score for test set: 0.3698.\n",
      "\n",
      " Model 3 700: SVC\n",
      "Training a SVC using a training set size of 700. . .\n",
      "Trained model in 0.0187 seconds\n",
      "Made predictions in 0.0077 seconds.\n",
      "F1 score for training set: 0.4262.\n",
      "Made predictions in 0.0027 seconds.\n",
      "F1 score for test set: 0.3737.\n"
     ]
    }
   ],
   "source": [
    "# from sklearn import model_B\n",
    "# from skearln import model_C\n",
    "\n",
    "# Initialize the three models\n",
    "clf_A = tree.DecisionTreeClassifier(random_state=42)\n",
    "clf_B = GaussianNB()\n",
    "clf_C = svm.SVC(random_state=42)\n",
    "\n",
    "# Set up the training set sizes\n",
    "X_train_200 = 200\n",
    "y_train_200 = 200\n",
    "\n",
    "X_train_500 = 500\n",
    "y_train_500 = 500\n",
    "\n",
    "X_train_700 = 700\n",
    "y_train_700 = 700\n",
    "\n",
    "# Execute the 'train_predict' function for each classifier and each training set size\n",
    "print \"\\n Model 1 200: DecisionTreeClassifier\"\n",
    "train_predict(clf_A, X_train[:X_train_200], y_train[:y_train_200], X_test, y_test)\n",
    "print \"\\n Model 1 500: DecisionTreeClassifier\"\n",
    "train_predict(clf_A, X_train[:X_train_500], y_train[:y_train_500], X_test, y_test)\n",
    "print \"\\n Model 1 700: DecisionTreeClassifier\"\n",
    "train_predict(clf_A, X_train, y_train, X_test, y_test)\n",
    "\n",
    "print \"\\n Model 2 200: GaussianNB\"\n",
    "train_predict(clf_B, X_train[:X_train_200], y_train[:y_train_200], X_test, y_test)\n",
    "print \"\\n Model 2 500: GaussianNB\"\n",
    "train_predict(clf_B, X_train[:X_train_500], y_train[:y_train_500], X_test, y_test)\n",
    "print \"\\n Model 2 700: GaussianNB\"\n",
    "train_predict(clf_B, X_train, y_train, X_test, y_test)\n",
    "\n",
    "print \"\\n Model 3 200: SVC\"\n",
    "train_predict(clf_C, X_train[:X_train_200], y_train[:y_train_200], X_test, y_test)\n",
    "print \"\\n Model 3 500: SVC\"\n",
    "train_predict(clf_C, X_train[:X_train_500], y_train[:y_train_500], X_test, y_test)\n",
    "print \"\\n Model 3 700: SVC\"\n",
    "train_predict(clf_C, X_train, y_train, X_test, y_test)"
   ]
  },
  {
   "cell_type": "code",
   "execution_count": 16,
   "metadata": {
    "collapsed": false
   },
   "outputs": [
    {
     "name": "stdout",
     "output_type": "stream",
     "text": [
      "Made predictions in 0.0072 seconds.\n",
      "Tuned model has a training F1 score of 0.8055.\n",
      "Made predictions in 0.0025 seconds.\n",
      "Tuned model has a testing F1 score of 0.4196.\n"
     ]
    }
   ],
   "source": [
    "# Create the parameters list to tune\n",
    "parameters = [{'C': [1, 10, 100, 200, 300, 400, 500, 600, 700, 1000, 10000],\n",
    "   'gamma': [1e-2, 1e-3, 1e-4, 1e-5, 1e-6, 1e-7, 1e-8],\n",
    "   'kernel': ['rbf'], 'tol':[1e-3, 1e-4, 1e-5, 1e-6, 1e-7, 1e-8]\n",
    "  }]\n",
    "\n",
    "# Initialize the classifier\n",
    "clf = svm.SVC()\n",
    "\n",
    "# Make an f1 scoring function \n",
    "f1_scorer = make_scorer(f1_score, pos_label='1', average='macro')\n",
    "\n",
    "# Perform grid search on the classifier using the f1_scorer as the scoring method\n",
    "grid_obj = GridSearchCV(clf, parameters, scoring = f1_scorer)\n",
    "\n",
    "# Fit the grid search object to the training data and find the optimal parameters\n",
    "grid_obj.fit(X_train, y_train)\n",
    "\n",
    "# Get the estimator\n",
    "slf = grid_obj.best_estimator_\n",
    "\n",
    "# Report the final F1 score for training and testing after parameter tuning\n",
    "print \"Tuned model has a training F1 score of {:.4f}.\".format(predict_labels(slf, X_train, y_train))\n",
    "print \"Tuned model has a testing F1 score of {:.4f}.\".format(predict_labels(slf, X_test, y_test))"
   ]
  },
  {
   "cell_type": "code",
   "execution_count": null,
   "metadata": {
    "collapsed": true
   },
   "outputs": [],
   "source": []
  }
 ],
 "metadata": {
  "kernelspec": {
   "display_name": "Python 2",
   "language": "python",
   "name": "python2"
  },
  "language_info": {
   "codemirror_mode": {
    "name": "ipython",
    "version": 2
   },
   "file_extension": ".py",
   "mimetype": "text/x-python",
   "name": "python",
   "nbconvert_exporter": "python",
   "pygments_lexer": "ipython2",
   "version": "2.7.13"
  }
 },
 "nbformat": 4,
 "nbformat_minor": 2
}
