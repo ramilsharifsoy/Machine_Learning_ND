{
 "cells": [
  {
   "cell_type": "markdown",
   "metadata": {
    "collapsed": false
   },
   "source": [
    "<a href=\"http://zipatlas.com/us/pa/pittsburgh/zip-code-comparison/median-household-income.htm\"><img src=\"Pittsburgh.png\"></a>"
   ]
  },
  {
   "cell_type": "code",
   "execution_count": 2,
   "metadata": {
    "collapsed": false
   },
   "outputs": [
    {
     "name": "stdout",
     "output_type": "stream",
     "text": [
      "\n",
      "Autonomus Vehicle Deployment dataset has 938 survey responces with 5 variables each.\n",
      "\n"
     ]
    }
   ],
   "source": [
    "# Use Python 2.7\n",
    "# Import libraries necessary for this project\n",
    "import numpy as np\n",
    "import pandas as pd\n",
    "# import visuals as vs # Supplementary code\n",
    "# from sklearn.cross_validation import ShuffleSplit\n",
    "\n",
    "# Pretty display for notebooks\n",
    "%matplotlib inline\n",
    "\n",
    "# Load the Autonomus Vehicle Deployment in Pittsburgh dataset\n",
    "data = pd.read_csv('data_prep_AV.csv')\n",
    "data_income = pd.read_csv('data_zip_AV.csv')\n",
    "\n",
    "zipcodes = data['ZipCode']\n",
    "pedestrian = data['pedestrian']\n",
    "\n",
    "familiarity = data['familiarity'] \n",
    "\n",
    "approval = data['approval'] \n",
    "neutral = data['approval']\n",
    "disapproval = data['approval']\n",
    "    \n",
    "# Success\n",
    "print \"\\nAutonomus Vehicle Deployment dataset has {} survey responces with {} variables each.\\n\".format(*data.shape)"
   ]
  },
  {
   "cell_type": "code",
   "execution_count": 3,
   "metadata": {
    "collapsed": false
   },
   "outputs": [
    {
     "name": "stdout",
     "output_type": "stream",
     "text": [
      "Statistics of Autonomus Vehicle Deployment in Pittsburgh Dataset with 938 responces:\n",
      "\n",
      "684, which is %72 of participants are familiar with AV\n",
      "\n",
      "680, which is %72 of participants approve deployment of AV\n",
      "119, which is %12 of participants neutral to deployment of AV\n",
      "139, which is %14 of participants disapprove deployment of AV\n",
      "\n",
      "535, which is %57 of participants familiar with AV and approve deployment\n",
      "82, which is %8 of participants familiar with AV and disapprove deployment\n",
      "67, which is %7 of participants familiar with AV and neutral to deployment\n",
      "\n",
      "145, which is %15 of participants not familiar with AV and approve deployment\n",
      "57, which is %6 of participants not familiar with AV and disapprove deployment\n",
      "52, which is %5 of participants not familiar with AV and neutral to deployment\n"
     ]
    }
   ],
   "source": [
    "# How many people familiar with AV\n",
    "familiar_AV = np.sum(familiarity)\n",
    "\n",
    "# How many people approve deployment of AV\n",
    "approval_AV = np.sum(num for num in approval if num == 1)\n",
    "\n",
    "# How many people neutral to deployment of AV\n",
    "neutral_AV = np.sum(num/2 for num in neutral if num == 2)\n",
    "\n",
    "# How many people disapprove deployment of AV\n",
    "disapproval_AV = 0\n",
    "for i in range(938):\n",
    "    if approval[i] == 0:\n",
    "        disapproval_AV += 1\n",
    "\n",
    "# How many people familiar with AV and disapprove deployment\n",
    "fam_disapp_AV = 0\n",
    "for i in range(938):\n",
    "    if approval[i] == 0:\n",
    "        if familiarity[i] == 1:\n",
    "            fam_disapp_AV += 1\n",
    "\n",
    "# How many people familiar with AV and neutral to deployment\n",
    "fam_neut_AV = 0\n",
    "for i in range(938):\n",
    "    if approval[i] == 2:\n",
    "        if familiarity[i] == 1:\n",
    "            fam_neut_AV += 1\n",
    "\n",
    "# How many people familiar with AV and approve deployment\n",
    "fam_app_AV = 0\n",
    "for i in range(938):\n",
    "    if approval[i] == familiarity[i] == 1:\n",
    "        fam_app_AV += 1\n",
    "        \n",
    "# How many people not familiar with AV and approve deployment\n",
    "notfam_app_AV = 0\n",
    "for i in range(938):\n",
    "    if approval[i] == 1:\n",
    "        if familiarity[i] == 0:\n",
    "            notfam_app_AV += 1\n",
    "\n",
    "# How many people notfamiliar with AV and neutral to deployment\n",
    "notfam_neut_AV = 0\n",
    "for i in range(938):\n",
    "    if approval[i] == 2:\n",
    "        if familiarity[i] == 0:\n",
    "            notfam_neut_AV += 1\n",
    "\n",
    "# How many people not familiar with AV and disapprove deployment\n",
    "notfam_disapp_AV = 0\n",
    "for i in range(938):\n",
    "    if approval[i] == familiarity[i] == 0:\n",
    "        notfam_disapp_AV += 1\n",
    "        \n",
    "print(\"Statistics of Autonomus Vehicle Deployment in Pittsburgh Dataset with 938 responces:\\n\")\n",
    "print \"{}, which is %{} of participants are familiar with AV\".format(familiar_AV, 100*familiar_AV/938)\n",
    "\n",
    "print \"\\n{}, which is %{} of participants approve deployment of AV\".format(approval_AV, 100*approval_AV/938)\n",
    "print \"{}, which is %{} of participants neutral to deployment of AV\".format(neutral_AV, 100*neutral_AV/938)\n",
    "print \"{}, which is %{} of participants disapprove deployment of AV\".format(disapproval_AV, 100*disapproval_AV/938)\n",
    "\n",
    "print \"\\n{}, which is %{} of participants familiar with AV and approve deployment\".format(fam_app_AV, 100*fam_app_AV/938)\n",
    "print \"{}, which is %{} of participants familiar with AV and disapprove deployment\".format(fam_disapp_AV, 100*fam_disapp_AV/938)\n",
    "print \"{}, which is %{} of participants familiar with AV and neutral to deployment\".format(fam_neut_AV, 100*fam_neut_AV/938)\n",
    "\n",
    "print \"\\n{}, which is %{} of participants not familiar with AV and approve deployment\".format(notfam_app_AV, 100*notfam_app_AV/938)\n",
    "print \"{}, which is %{} of participants not familiar with AV and disapprove deployment\".format(notfam_disapp_AV, 100*notfam_disapp_AV/938)\n",
    "print \"{}, which is %{} of participants not familiar with AV and neutral to deployment\".format(notfam_neut_AV, 100*notfam_neut_AV/938)\n",
    "\n"
   ]
  },
  {
   "cell_type": "code",
   "execution_count": 4,
   "metadata": {
    "collapsed": false
   },
   "outputs": [
    {
     "name": "stdout",
     "output_type": "stream",
     "text": [
      " Zip  : # Participants\n",
      "----------------------\n",
      "15232 : 43\n",
      "15233 : 6\n",
      "15234 : 2\n",
      "15235 : 4\n",
      "15236 : 3\n",
      "15237 : 20\n",
      "15238 : 12\n",
      "15239 : 2\n",
      "15241 : 8\n",
      "15243 : 6\n",
      "15201 : 69\n",
      "15202 : 16\n",
      "15203 : 36\n",
      "15204 : 6\n",
      "15205 : 8\n",
      "15206 : 102\n",
      "15207 : 18\n",
      "15208 : 28\n",
      "15209 : 13\n",
      "15210 : 7\n",
      "15211 : 20\n",
      "15212 : 70\n",
      "15213 : 33\n",
      "15214 : 6\n",
      "15215 : 13\n",
      "15216 : 18\n",
      "15217 : 122\n",
      "15218 : 40\n",
      "15219 : 21\n",
      "15220 : 8\n",
      "15221 : 43\n",
      "15222 : 37\n",
      "15223 : 3\n",
      "15224 : 62\n",
      "15226 : 5\n",
      "15227 : 4\n",
      "15228 : 18\n",
      "15229 : 6\n"
     ]
    }
   ],
   "source": [
    "import collections\n",
    "\n",
    "# How many people from which zipcode participated\n",
    "zip_participants = collections.Counter(zipcodes)\n",
    "\n",
    "print(\" Zip  : # Participants\")\n",
    "print(\"----------------------\")\n",
    "for code in zip_participants:\n",
    "    print ('%d : %d' % (code, zip_participants[code]))"
   ]
  },
  {
   "cell_type": "code",
   "execution_count": 6,
   "metadata": {
    "collapsed": false
   },
   "outputs": [
    {
     "name": "stdout",
     "output_type": "stream",
     "text": [
      "0      $85,102.00 \n",
      "1      $67,370.00 \n",
      "2      $60,717.00 \n",
      "3      $58,440.00 \n",
      "4      $55,016.00 \n",
      "5      $48,415.00 \n",
      "6      $46,913.00 \n",
      "7      $45,173.00 \n",
      "8      $44,018.00 \n",
      "9      $43,750.00 \n",
      "10     $41,367.00 \n",
      "11     $40,756.00 \n",
      "12     $40,562.00 \n",
      "13     $39,526.00 \n",
      "14     $38,507.00 \n",
      "15     $38,439.00 \n",
      "16     $38,292.00 \n",
      "17     $37,889.00 \n",
      "18     $35,983.00 \n",
      "19     $34,727.00 \n",
      "20     $34,067.00 \n",
      "21     $33,724.00 \n",
      "22     $32,859.00 \n",
      "23     $32,552.00 \n",
      "24     $30,725.00 \n",
      "25     $30,668.00 \n",
      "26     $30,625.00 \n",
      "27     $28,517.00 \n",
      "28     $28,156.00 \n",
      "29     $27,595.00 \n",
      "30     $27,041.00 \n",
      "31     $27,031.00 \n",
      "32     $26,712.00 \n",
      "33     $24,178.00 \n",
      "34     $23,841.00 \n",
      "35     $22,880.00 \n",
      "36     $18,598.00 \n",
      "37     $18,473.00 \n",
      "38     $14,399.00 \n",
      "Name: AvgIncomeHouse, dtype: object\n"
     ]
    }
   ],
   "source": [
    "average_income = data_income['AvgIncomeHouse']\n",
    "zipcode_income = data_income['ZipCode']\n",
    "print (average_income)"
   ]
  },
  {
   "cell_type": "code",
   "execution_count": null,
   "metadata": {
    "collapsed": true
   },
   "outputs": [],
   "source": []
  }
 ],
 "metadata": {
  "kernelspec": {
   "display_name": "Python 2",
   "language": "python",
   "name": "python2"
  },
  "language_info": {
   "codemirror_mode": {
    "name": "ipython",
    "version": 2
   },
   "file_extension": ".py",
   "mimetype": "text/x-python",
   "name": "python",
   "nbconvert_exporter": "python",
   "pygments_lexer": "ipython2",
   "version": "2.7.13"
  }
 },
 "nbformat": 4,
 "nbformat_minor": 2
}
